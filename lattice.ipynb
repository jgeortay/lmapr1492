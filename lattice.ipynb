{
 "cells": [
  {
   "cell_type": "code",
   "execution_count": 20,
   "metadata": {},
   "outputs": [
    {
     "name": "stdout",
     "output_type": "stream",
     "text": [
      "Vecteur de base du réseau direct : (2.51309421, 2.5130942092635875, 4.18140241)\n",
      "Vecteur de base du réseau réciproque : (2.8869580054550923, 2.8869580063010587, 1.5026502333650271)\n",
      "Type de maille : hexagonal\n",
      "Système cristallin : hexagonal\n",
      "Groupe d'espace : 194 P6_3/mmc\n"
     ]
    }
   ],
   "source": [
    "from pymatgen.ext.matproj import MPRester\n",
    "from pymatgen.io.cif import CifWriter\n",
    "from pymatgen.symmetry.analyzer import SpacegroupAnalyzer\n",
    "\n",
    "with MPRester(\"gsItyjn65HPAFPdGywpu\") as m:\n",
    "    structure = m.get_structure_by_material_id(\"mp-47\")\n",
    "    w = CifWriter(structure)\n",
    "    w.write_file('C_mp-47_symmetrized.cif')\n",
    "    \n",
    "    lattice=structure.lattice\n",
    "    reciprocal_lattice=structure.lattice.reciprocal_lattice\n",
    "    vect=lattice.abc\n",
    "    vect_reciprocal=reciprocal_lattice.abc\n",
    "    print(\"Vecteur de base du réseau direct :\" , vect)\n",
    "    print(\"Vecteur de base du réseau réciproque :\",vect_reciprocal)\n",
    "    finder = SpacegroupAnalyzer(structure)\n",
    "    print(\"Type de maille :\", finder.get_lattice_type())\n",
    "    print(\"Système cristallin :\", finder.get_crystal_system())\n",
    "    print(\"Groupe d'espace :\",finder.get_space_group_symbol())"
   ]
  },
  {
   "cell_type": "code",
   "execution_count": null,
   "metadata": {},
   "outputs": [],
   "source": []
  }
 ],
 "metadata": {
  "kernelspec": {
   "display_name": "Python 3",
   "language": "python",
   "name": "python3"
  },
  "language_info": {
   "codemirror_mode": {
    "name": "ipython",
    "version": 3
   },
   "file_extension": ".py",
   "mimetype": "text/x-python",
   "name": "python",
   "nbconvert_exporter": "python",
   "pygments_lexer": "ipython3",
   "version": "3.6.8"
  }
 },
 "nbformat": 4,
 "nbformat_minor": 2
}

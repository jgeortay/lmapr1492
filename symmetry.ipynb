{
 "cells": [
  {
   "cell_type": "code",
   "execution_count": 82,
   "metadata": {},
   "outputs": [
    {
     "data": {
      "text/markdown": [
       "**Téléchargement du fichier CIF...**"
      ],
      "text/plain": [
       "<IPython.core.display.Markdown object>"
      ]
     },
     "metadata": {},
     "output_type": "display_data"
    }
   ],
   "source": [
    "from pymatgen.ext.matproj import MPRester\n",
    "from pymatgen.io.cif import CifWriter\n",
    "from pymatgen.symmetry.analyzer import SpacegroupAnalyzer\n",
    "from pymatgen.core.operations import SymmOp\n",
    "from IPython.display import Markdown,display\n",
    "import numpy as np\n",
    "def printbold(string): \n",
    "    display(Markdown(string))\n",
    "\n",
    "\n",
    "with MPRester(\"gsItyjn65HPAFPdGywpu\") as m:\n",
    "    structure = m.get_structure_by_material_id(\"mp-47\")\n",
    "    w = CifWriter(structure, 0.1)\n",
    "    w.write_file('C_mp-47_symmetrized.cif')\n",
    "\n",
    "printbold(\"**Téléchargement du fichier CIF...**\")"
   ]
  },
  {
   "cell_type": "code",
   "execution_count": 83,
   "metadata": {},
   "outputs": [
    {
     "data": {
      "text/markdown": [
       "**Maille et structure du matériau mp-47**"
      ],
      "text/plain": [
       "<IPython.core.display.Markdown object>"
      ]
     },
     "metadata": {},
     "output_type": "display_data"
    },
    {
     "name": "stdout",
     "output_type": "stream",
     "text": [
      "Maille :\n"
     ]
    }
   ],
   "source": [
    "printbold(\"**Maille et structure du matériau mp-47**\")\n",
    "print(\"Maille :\")"
   ]
  },
  {
   "cell_type": "markdown",
   "metadata": {},
   "source": [
    "![](mp47.jpg)"
   ]
  },
  {
   "cell_type": "code",
   "execution_count": 84,
   "metadata": {},
   "outputs": [
    {
     "name": "stdout",
     "output_type": "stream",
     "text": [
      "Structure :\n"
     ]
    }
   ],
   "source": [
    "print(\"Structure :\")"
   ]
  },
  {
   "cell_type": "markdown",
   "metadata": {},
   "source": [
    "![](mp47plane.jpg)"
   ]
  },
  {
   "cell_type": "code",
   "execution_count": 86,
   "metadata": {},
   "outputs": [
    {
     "data": {
      "text/markdown": [
       "**Application de la 1ère symétrie : (x-y, x, z+1/2)**"
      ],
      "text/plain": [
       "<IPython.core.display.Markdown object>"
      ]
     },
     "metadata": {},
     "output_type": "display_data"
    },
    {
     "name": "stdout",
     "output_type": "stream",
     "text": [
      "Cette opération de symétrie est une roto-translation d'ordre 6 et de coefficient de translation 1/2,\n",
      "l'élément de symétrie est donc un axe hélicoïdal 6_3.\n",
      "Une roto-translation est une opération non symorphique et se constitue d'une partie ponctuelle et d'une partie\n",
      "translatoire.\n",
      "Partie ponctuelle : matrice de la rotation \n",
      "[[ 1. -1.  0.]\n",
      " [ 1.  0.  0.]\n",
      " [ 0.  0.  1.]]\n",
      "Partie translatoire : vecteur de translation\n",
      "[0.  0.  0.5]\n",
      "On applique cette roto-translation sur le carbone en position (0.33 , 0.67 , 0.06) :\n"
     ]
    }
   ],
   "source": [
    "printbold(\"**Application de la 1ère symétrie : (x-y, x, z+1/2)**\")\n",
    "print(\"Cette opération de symétrie est une roto-translation d'ordre 6 et de coefficient de translation 1/2,\")\n",
    "print(\"l'élément de symétrie est donc un axe hélicoïdal 6_3.\")\n",
    "print(\"Une roto-translation est une opération non symorphique et se constitue d'une partie ponctuelle et d'une partie\")\n",
    "print(\"translatoire.\")\n",
    "print(\"Partie ponctuelle : matrice de la rotation \")\n",
    "m1=SymmOp.from_xyz_string('x-y, x, z+1/2')\n",
    "print(m1.rotation_matrix)\n",
    "print(\"Partie translatoire : vecteur de translation\")\n",
    "print(m1.translation_vector)\n",
    "print(\"On applique cette roto-translation sur le carbone en position (0.33 , 0.67 , 0.06) :\")\n",
    "carbone1=np.array([[0.33], [0.67], [0.06]])\n",
    "sym1 = np.dot(m1.rotation_matrix,carbone1) + np.array([[0], [0], [0.5]])\n"
   ]
  },
  {
   "cell_type": "markdown",
   "metadata": {},
   "source": [
    "![](mp47calcul1.png)"
   ]
  },
  {
   "cell_type": "code",
   "execution_count": 87,
   "metadata": {},
   "outputs": [
    {
     "name": "stdout",
     "output_type": "stream",
     "text": [
      "En voici une représentation visuelle :\n"
     ]
    }
   ],
   "source": [
    "print(\"En voici une représentation visuelle :\")"
   ]
  },
  {
   "cell_type": "markdown",
   "metadata": {},
   "source": [
    "![](mp47_sym3.jpg)"
   ]
  },
  {
   "cell_type": "code",
   "execution_count": 88,
   "metadata": {},
   "outputs": [
    {
     "data": {
      "text/markdown": [
       "**Application de la 2ème symétrie : (x, y, -z+1/2)**"
      ],
      "text/plain": [
       "<IPython.core.display.Markdown object>"
      ]
     },
     "metadata": {},
     "output_type": "display_data"
    },
    {
     "name": "stdout",
     "output_type": "stream",
     "text": [
      "Cette opération de symétrie est une symétrie miroir, dont l'élément de symétrie est un plan parallèle au plan\n",
      "formé par a et b et en z = 1/4.\n",
      "L'opération de symétrie comporte à nouveau une partie ponctuelle et une partie translatoire.\n",
      "Partie ponctuelle : matrice de rotation\n",
      "[[ 1.  0.  0.]\n",
      " [ 0.  1.  0.]\n",
      " [ 0.  0. -1.]]\n",
      "Partie translatoire : vecteur de translation\n",
      "[0.  0.  0.5]\n",
      "On applique cette opération de symétrie au carbone en position (0.67, 0.33, 0.94) :\n"
     ]
    }
   ],
   "source": [
    "printbold(\"**Application de la 2ème symétrie : (x, y, -z+1/2)**\")\n",
    "print(\"Cette opération de symétrie est une symétrie miroir, dont l'élément de symétrie est un plan parallèle au plan\")\n",
    "print(\"formé par a et b et en z = 1/4.\")\n",
    "print(\"L'opération de symétrie comporte à nouveau une partie ponctuelle et une partie translatoire.\")\n",
    "print(\"Partie ponctuelle : matrice de rotation\")\n",
    "m2 = SymmOp.from_xyz_string('x, y, -z+1/2')\n",
    "print(m2.rotation_matrix)\n",
    "print(\"Partie translatoire : vecteur de translation\")\n",
    "print(m2.translation_vector)\n",
    "print(\"On applique cette opération de symétrie au carbone en position (0.67, 0.33, 0.94) :\")\n",
    "sym2= np.dot(m2.rotation_matrix, np.array([[0.67],[0.33],[0.94]])) + np.array([[0],[0],[0.5]])"
   ]
  },
  {
   "cell_type": "markdown",
   "metadata": {},
   "source": [
    "![](mp47calcul2.png)"
   ]
  },
  {
   "cell_type": "code",
   "execution_count": 89,
   "metadata": {},
   "outputs": [
    {
     "name": "stdout",
     "output_type": "stream",
     "text": [
      "En voici une représentation visuelle :\n"
     ]
    }
   ],
   "source": [
    "print(\"En voici une représentation visuelle :\")"
   ]
  },
  {
   "cell_type": "markdown",
   "metadata": {},
   "source": [
    "![](mp47_sym8.jpg)"
   ]
  },
  {
   "cell_type": "code",
   "execution_count": 90,
   "metadata": {},
   "outputs": [
    {
     "data": {
      "text/markdown": [
       "**Application de la 3ème symétrie : (-x+y, -x, z)**"
      ],
      "text/plain": [
       "<IPython.core.display.Markdown object>"
      ]
     },
     "metadata": {},
     "output_type": "display_data"
    },
    {
     "name": "stdout",
     "output_type": "stream",
     "text": [
      "Cette opération de symétrie est une rotation d'ordre 3, ce qui implique une rotation de 2pi/3 à chaque\n",
      "application de l'opération, dont l'axe est orienté selon z.\n",
      "Les simples rotations sont constituées uniquement d'une partie ponctuelle.\n",
      "Matrice de rotation :\n",
      "[[-1.  1.  0.]\n",
      " [-1.  0.  0.]\n",
      " [ 0.  0.  1.]]\n",
      "On applique cette opération de symétrie au carbone en position (0.67, 0.33, 0.56) :\n"
     ]
    }
   ],
   "source": [
    "printbold(\"**Application de la 3ème symétrie : (-x+y, -x, z)**\")\n",
    "print(\"Cette opération de symétrie est une rotation d'ordre 3, ce qui implique une rotation de 2pi/3 à chaque\")\n",
    "print(\"application de l'opération, dont l'axe est orienté selon z.\")\n",
    "print(\"Les simples rotations sont constituées uniquement d'une partie ponctuelle.\")\n",
    "m3 = SymmOp.from_xyz_string('-x+y, -x, z')\n",
    "print(\"Matrice de rotation :\")\n",
    "print(m3.rotation_matrix)\n",
    "print(\"On applique cette opération de symétrie au carbone en position (0.67, 0.33, 0.56) :\")\n",
    "sym3 = np.dot(m3.rotation_matrix, np.array([[0.67],[0.33],[0.56]]))"
   ]
  },
  {
   "cell_type": "markdown",
   "metadata": {},
   "source": [
    "![](mp47calcul3.png)"
   ]
  },
  {
   "cell_type": "code",
   "execution_count": 91,
   "metadata": {},
   "outputs": [
    {
     "name": "stdout",
     "output_type": "stream",
     "text": [
      "En voici deux représentations visuelles. La première permet de visualiser l'opération dans le cristal en \n",
      "trois dimensions, tandis que la seconde permet de clarifier la chose en se plaçant dans un plan de normale\n",
      "orientée selon l'axe de rotation :\n"
     ]
    }
   ],
   "source": [
    "print(\"En voici deux représentations visuelles. La première permet de visualiser l'opération dans le cristal en \")\n",
    "print(\"trois dimensions, tandis que la seconde permet de clarifier la chose en se plaçant dans un plan de normale\")\n",
    "print(\"orientée selon l'axe de rotation :\")"
   ]
  },
  {
   "cell_type": "markdown",
   "metadata": {},
   "source": [
    "![](mp47_sym9.1.jpg)"
   ]
  },
  {
   "cell_type": "markdown",
   "metadata": {},
   "source": [
    "![](mp47_sym9.2.jpg)"
   ]
  }
 ],
 "metadata": {
  "kernelspec": {
   "display_name": "Python 3",
   "language": "python",
   "name": "python3"
  },
  "language_info": {
   "codemirror_mode": {
    "name": "ipython",
    "version": 3
   },
   "file_extension": ".py",
   "mimetype": "text/x-python",
   "name": "python",
   "nbconvert_exporter": "python",
   "pygments_lexer": "ipython3",
   "version": "3.6.8"
  }
 },
 "nbformat": 4,
 "nbformat_minor": 2
}
